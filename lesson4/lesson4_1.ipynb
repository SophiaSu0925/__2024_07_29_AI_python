{
 "cells": [
  {
   "cell_type": "code",
   "execution_count": 2,
   "metadata": {},
   "outputs": [
    {
     "name": "stdout",
     "output_type": "stream",
     "text": [
      "可以考駕照\n"
     ]
    }
   ],
   "source": [
    "#單項選擇(if bool:); 需縮排(tab); True(執行)/False(不執行)\n",
    "#雙項選擇(if bool: / else:); 一定會執行其中一個\n",
    "#關係運算子(</<=/>/>=/==/!=)會傳出bool值(T/F)\n",
    "\n",
    "age = 25\n",
    "\n",
    "if age >= 18:\n",
    "    print(\"可以考駕照\")\n",
    "else:\n",
    "    print(\"不可以考駕照\")"
   ]
  },
  {
   "cell_type": "code",
   "execution_count": 6,
   "metadata": {},
   "outputs": [
    {
     "name": "stdout",
     "output_type": "stream",
     "text": [
      "學生總分是:300\n"
     ]
    }
   ],
   "source": [
    "#輸入學生分數,最高300分\n",
    "#要不要加分(yes/no)\n",
    "#yes(總分加上5%)\n",
    "\n",
    "import math\n",
    "score = int(input(\"請輸入學生分數(最高300分)\"))\n",
    "is_add = input(\"學生是否有加分條件(y,n)\")\n",
    "\n",
    "if is_add == \"y\":\n",
    "    score *= 1.05 #a*=b(a=a*b)\n",
    "    score = math.ceil(score) #無條件進位(265.5變266) #要把值存起來\n",
    "    if score > 300: #巢狀判斷(若bool=T則繼續執行)\n",
    "        score = 300 \n",
    "\n",
    "print(f\"學生總分是:{score}\")"
   ]
  },
  {
   "cell_type": "code",
   "execution_count": 7,
   "metadata": {},
   "outputs": [
    {
     "ename": "ValueError",
     "evalue": "invalid literal for int() with base 10: '250a'",
     "output_type": "error",
     "traceback": [
      "\u001b[0;31m---------------------------------------------------------------------------\u001b[0m",
      "\u001b[0;31mValueError\u001b[0m                                Traceback (most recent call last)",
      "Cell \u001b[0;32mIn[7], line 4\u001b[0m\n\u001b[1;32m      1\u001b[0m \u001b[38;5;66;03m#VALUE ERROR(分數輸入250a)\u001b[39;00m\n\u001b[1;32m      3\u001b[0m \u001b[38;5;28;01mimport\u001b[39;00m \u001b[38;5;21;01mmath\u001b[39;00m\n\u001b[0;32m----> 4\u001b[0m score \u001b[38;5;241m=\u001b[39m \u001b[38;5;28;43mint\u001b[39;49m\u001b[43m(\u001b[49m\u001b[38;5;28;43minput\u001b[39;49m\u001b[43m(\u001b[49m\u001b[38;5;124;43m\"\u001b[39;49m\u001b[38;5;124;43m請輸入學生分數(最高300分)\u001b[39;49m\u001b[38;5;124;43m\"\u001b[39;49m\u001b[43m)\u001b[49m\u001b[43m)\u001b[49m \u001b[38;5;66;03m#無法將250a轉換成整數(raise ValueERROR)\u001b[39;00m\n\u001b[1;32m      5\u001b[0m is_add \u001b[38;5;241m=\u001b[39m \u001b[38;5;28minput\u001b[39m(\u001b[38;5;124m\"\u001b[39m\u001b[38;5;124m學生是否有加分條件(y,n)\u001b[39m\u001b[38;5;124m\"\u001b[39m)\n\u001b[1;32m      7\u001b[0m \u001b[38;5;28;01mif\u001b[39;00m is_add \u001b[38;5;241m==\u001b[39m \u001b[38;5;124m\"\u001b[39m\u001b[38;5;124my\u001b[39m\u001b[38;5;124m\"\u001b[39m:\n",
      "\u001b[0;31mValueError\u001b[0m: invalid literal for int() with base 10: '250a'"
     ]
    }
   ],
   "source": [
    "#VALUE ERROR(分數輸入250a)\n",
    "\n",
    "import math\n",
    "score = int(input(\"請輸入學生分數(最高300分)\")) #無法將250a轉換成整數(raise ValueERROR)\n",
    "is_add = input(\"學生是否有加分條件(y,n)\")\n",
    "\n",
    "if is_add == \"y\":\n",
    "    score *= 1.05 #a*=b(a=a*b)\n",
    "    score = math.ceil(score)\n",
    "\n",
    "print(f\"學生總分是:{score}\")"
   ]
  },
  {
   "cell_type": "code",
   "execution_count": 8,
   "metadata": {},
   "outputs": [
    {
     "name": "stdout",
     "output_type": "stream",
     "text": [
      "格式錯誤\n",
      "應用程式結束\n"
     ]
    }
   ],
   "source": [
    "#try(檢查會不會有raise Exception)\n",
    "#except ValueError(如果raise valueerror 執行此區塊)\n",
    "#else(沒有raise error 執行此區塊)\n",
    "\n",
    "import math\n",
    "try:\n",
    "    score = int(input(\"請輸入學生分數(最高300分)\")) #無法將250a轉換成整數(raise ValueERROR)\n",
    "except ValueError:\n",
    "    print(\"格式錯誤\")\n",
    "else:\n",
    "    is_add = input(\"學生是否有加分條件(y,n)\")\n",
    "\n",
    "    if is_add == \"y\":\n",
    "        score *= 1.05 #a*=b(a=a*b)\n",
    "        score = math.ceil(score)\n",
    "\n",
    "    print(f\"學生總分是:{score}\")\n",
    "print(\"應用程式結束\")"
   ]
  },
  {
   "cell_type": "code",
   "execution_count": null,
   "metadata": {},
   "outputs": [],
   "source": [
    "#手動丟出錯誤\n",
    "\n",
    "import math\n",
    "try:\n",
    "    score = int(input(\"請輸入學生分數(最高300分)\"))\n",
    "    raise NameError\n",
    "except ValueError: #先檢查是否為ValueError\n",
    "    print(\"格式錯誤\")\n",
    "except Exception:  #再檢查是否為其他錯誤\n",
    "    print(\"不知名的錯誤\")\n",
    "else:\n",
    "    is_add = input(\"學生是否有加分條件(y,n)\")\n",
    "\n",
    "    if is_add == \"y\":\n",
    "        score *= 1.05 #a*=b(a=a*b)\n",
    "        score = math.ceil(score)\n",
    "\n",
    "    print(f\"學生總分是:{score}\")\n",
    "print(\"應用程式結束\")"
   ]
  }
 ],
 "metadata": {
  "kernelspec": {
   "display_name": "Python 3",
   "language": "python",
   "name": "python3"
  },
  "language_info": {
   "codemirror_mode": {
    "name": "ipython",
    "version": 3
   },
   "file_extension": ".py",
   "mimetype": "text/x-python",
   "name": "python",
   "nbconvert_exporter": "python",
   "pygments_lexer": "ipython3",
   "version": "3.11.9"
  }
 },
 "nbformat": 4,
 "nbformat_minor": 2
}
