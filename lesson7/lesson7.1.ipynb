{
 "cells": [
  {
   "cell_type": "code",
   "execution_count": null,
   "metadata": {},
   "outputs": [],
   "source": [
    "# 猜數字遊戲\n",
    "import random\n",
    "import pyinputplus as pyip\n",
    "\n",
    "while True:\n",
    "    min = 1\n",
    "    max = 100\n",
    "    count = 0\n",
    "    target = random.randint(1, 100)\n",
    "    print(target)\n",
    "    print(\"=============猜數字遊戲=================\\n\")\n",
    "    while True:\n",
    "        count += 1\n",
    "        keyin = pyip.inputInt(f\"猜數字範圍{min}~{max}:\",min=min,max=max)\n",
    "        if keyin == target:\n",
    "            print(f\"賓果!猜對了, 答案是{keyin}\")\n",
    "            print(f\"您猜了{count}次\")\n",
    "            break\n",
    "        elif keyin > target:\n",
    "            print(\"再小一點\")\n",
    "            max = keyin-1\n",
    "        elif keyin < target:\n",
    "            print(\"再大一點\")\n",
    "            min = keyin+1\n",
    "        print(f\"您已經猜了{count}次\")\n",
    "    \n",
    "    is_play = pyip.inputYesNo(\"您還要繼續嗎?\")\n",
    "    if is_play == \"no\":\n",
    "        break\n",
    "print(\"應用程式結束\")"
   ]
  },
  {
   "cell_type": "code",
   "execution_count": null,
   "metadata": {},
   "outputs": [],
   "source": [
    "#自訂function:簡化邏輯思考\n",
    "\n",
    "import random\n",
    "import pyinputplus as pyip\n",
    "\n",
    "while True:\n",
    "    play_game():\n",
    "    is_play = pyip.inputYesNo(\"您還要繼續嗎?(yes,no)\")\n",
    "    if is_play == \"no\":\n",
    "        break\n",
    "print(\"應用程式結束\")"
   ]
  },
  {
   "cell_type": "code",
   "execution_count": null,
   "metadata": {},
   "outputs": [],
   "source": [
    "#自訂function(拆分後)\n",
    "    \n",
    "import random\n",
    "import pyinputplus as pyip\n",
    "def play_game():\n",
    "    min = 1\n",
    "    max = 100\n",
    "    count = 0\n",
    "    target = random.randint(1, 100)\n",
    "    print(target)\n",
    "    print(\"=============猜數字遊戲=================\\n\")\n",
    "    while True:\n",
    "        count += 1\n",
    "        keyin = pyip.inputInt(f\"猜數字範圍{min}~{max}:\",min=min,max=max)\n",
    "        if keyin == target:\n",
    "            print(f\"賓果!猜對了, 答案是{keyin}\")\n",
    "            print(f\"您猜了{count}次\")\n",
    "            break\n",
    "        elif keyin > target:\n",
    "            print(\"再小一點\")\n",
    "            max = keyin-1\n",
    "        elif keyin < target:\n",
    "            print(\"再大一點\")\n",
    "            min = keyin+1\n",
    "        print(f\"您已經猜了{count}次\")\n",
    "while True:\n",
    "    play_game()\n",
    "    is_play = pyip.inputYesNo(\"您還要繼續嗎?(yes,no)\")\n",
    "    if is_play == \"no\":\n",
    "        break\n",
    "print(\"應用程式結束\")"
   ]
  }
 ],
 "metadata": {
  "kernelspec": {
   "display_name": "Python 3",
   "language": "python",
   "name": "python3"
  },
  "language_info": {
   "name": "python",
   "version": "3.11.9"
  }
 },
 "nbformat": 4,
 "nbformat_minor": 2
}
