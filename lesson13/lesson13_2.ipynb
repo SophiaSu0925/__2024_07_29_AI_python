{
 "cells": [
  {
   "cell_type": "code",
   "execution_count": 2,
   "metadata": {},
   "outputs": [
    {
     "data": {
      "text/plain": [
       "[3, 6, 9, 12, 15]"
      ]
     },
     "execution_count": 2,
     "metadata": {},
     "output_type": "execute_result"
    }
   ],
   "source": [
    "values = [1, 2, 3, 4, 5]\n",
    "multiply = 3\n",
    "\n",
    "new_values = []\n",
    "for i in values:\n",
    "    new_values.append(i*multiply)\n",
    "\n",
    "new_values"
   ]
  },
  {
   "cell_type": "code",
   "execution_count": 4,
   "metadata": {},
   "outputs": [
    {
     "data": {
      "text/plain": [
       "[3, 6, 9, 12, 15]"
      ]
     },
     "execution_count": 4,
     "metadata": {},
     "output_type": "execute_result"
    }
   ],
   "source": [
    "values = [1, 2, 3, 4, 5]\n",
    "multiply = 3\n",
    "\n",
    "new_values = [i*multiply for i in values]\n",
    "new_values"
   ]
  },
  {
   "cell_type": "code",
   "execution_count": 5,
   "metadata": {},
   "outputs": [
    {
     "data": {
      "text/plain": [
       "[1, 2, 3, 4, 5, 1, 2, 3, 4, 5, 1, 2, 3, 4, 5]"
      ]
     },
     "execution_count": 5,
     "metadata": {},
     "output_type": "execute_result"
    }
   ],
   "source": [
    "values = [1, 2, 3, 4, 5]\n",
    "multiply = 3\n",
    "values * multiply #3倍list"
   ]
  },
  {
   "cell_type": "code",
   "execution_count": 6,
   "metadata": {},
   "outputs": [
    {
     "data": {
      "text/plain": [
       "numpy.ndarray"
      ]
     },
     "execution_count": 6,
     "metadata": {},
     "output_type": "execute_result"
    }
   ],
   "source": [
    "#陣列運算(numpy/pandas)\n",
    "\n",
    "import numpy as np\n",
    "values_array = np.array([1, 2, 3, 4, 5])\n",
    "type(values_array)"
   ]
  },
  {
   "cell_type": "code",
   "execution_count": 9,
   "metadata": {},
   "outputs": [
    {
     "data": {
      "text/plain": [
       "array([0.5, 1. , 1.5, 2. , 2.5])"
      ]
     },
     "execution_count": 9,
     "metadata": {},
     "output_type": "execute_result"
    }
   ],
   "source": [
    "import numpy as np\n",
    "values_array = np.array([1, 2, 3, 4, 5])\n",
    "multiply = 3\n",
    "values_array * multiply\n",
    "values_array * 0.5"
   ]
  },
  {
   "cell_type": "code",
   "execution_count": 11,
   "metadata": {},
   "outputs": [
    {
     "data": {
      "text/plain": [
       "array([[[52, 79, 68, 85, 90],\n",
       "        [84, 93, 83, 54, 50],\n",
       "        [78, 65, 92, 80, 59],\n",
       "        ...,\n",
       "        [96, 87, 82, 94, 76],\n",
       "        [88, 97, 97, 68, 81],\n",
       "        [54, 89, 99, 57, 89]],\n",
       "\n",
       "       [[51, 66, 94, 72, 60],\n",
       "        [95, 52, 59, 83, 67],\n",
       "        [72, 65, 81, 82, 72],\n",
       "        ...,\n",
       "        [99, 77, 78, 75, 57],\n",
       "        [51, 93, 75, 87, 72],\n",
       "        [58, 68, 64, 70, 89]],\n",
       "\n",
       "       [[52, 95, 91, 52, 98],\n",
       "        [59, 93, 98, 84, 93],\n",
       "        [84, 75, 78, 82, 77],\n",
       "        ...,\n",
       "        [76, 77, 83, 96, 54],\n",
       "        [80, 85, 72, 86, 85],\n",
       "        [66, 75, 58, 93, 96]],\n",
       "\n",
       "       [[56, 71, 84, 61, 83],\n",
       "        [58, 52, 81, 62, 87],\n",
       "        [91, 81, 81, 81, 84],\n",
       "        ...,\n",
       "        [55, 63, 68, 56, 56],\n",
       "        [62, 50, 99, 52, 91],\n",
       "        [97, 64, 87, 53, 92]],\n",
       "\n",
       "       [[75, 62, 72, 66, 80],\n",
       "        [93, 79, 55, 96, 75],\n",
       "        [77, 55, 96, 71, 66],\n",
       "        ...,\n",
       "        [74, 62, 67, 60, 68],\n",
       "        [58, 58, 67, 78, 69],\n",
       "        [76, 65, 77, 77, 72]]])"
      ]
     },
     "execution_count": 11,
     "metadata": {},
     "output_type": "execute_result"
    }
   ],
   "source": [
    "#多維陣列\n",
    "import numpy as np\n",
    "np.random.randint(50, 100, size=(5,50,5))"
   ]
  },
  {
   "cell_type": "code",
   "execution_count": 12,
   "metadata": {},
   "outputs": [
    {
     "data": {
      "text/plain": [
       "array([ 3.14159, 12.56636, 28.27431, 50.26544, 78.53975])"
      ]
     },
     "execution_count": 12,
     "metadata": {},
     "output_type": "execute_result"
    }
   ],
   "source": [
    "import numpy as np\n",
    "values_array = np.array([1, 2, 3, 4, 5])\n",
    "multiply = 3\n",
    "values_array * multiply\n",
    "values_array ** 2 *3.14159 #圓面積"
   ]
  }
 ],
 "metadata": {
  "kernelspec": {
   "display_name": "Python 3",
   "language": "python",
   "name": "python3"
  },
  "language_info": {
   "codemirror_mode": {
    "name": "ipython",
    "version": 3
   },
   "file_extension": ".py",
   "mimetype": "text/x-python",
   "name": "python",
   "nbconvert_exporter": "python",
   "pygments_lexer": "ipython3",
   "version": "3.11.9"
  }
 },
 "nbformat": 4,
 "nbformat_minor": 2
}
