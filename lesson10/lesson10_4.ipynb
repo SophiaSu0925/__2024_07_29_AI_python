{
 "cells": [
  {
   "cell_type": "code",
   "execution_count": 1,
   "metadata": {},
   "outputs": [
    {
     "name": "stdout",
     "output_type": "stream",
     "text": [
      "<class 'str'>\n"
     ]
    }
   ],
   "source": [
    "with open('abc.csv',encoding= 'utf-8',newline='') as file:\n",
    "    content = file.read()\n",
    "    print(str)\n"
   ]
  },
  {
   "cell_type": "code",
   "execution_count": null,
   "metadata": {},
   "outputs": [],
   "source": [
    "import csv\n",
    "from pprint import pprint #美化資料\n",
    "with open('abc.csv',encoding='utf-8',newline='') as file:\n",
    "    #content = file.read()\n",
    "    reader = csv.reader(file)\n",
    "    contents:list = list(reader)\n",
    "\n",
    "pprint(contents) #Nested Lists"
   ]
  },
  {
   "cell_type": "code",
   "execution_count": null,
   "metadata": {},
   "outputs": [],
   "source": [
    "import csv\n",
    "from pprint import pprint\n",
    "with open('abc.csv',encoding='utf-8',newline='') as file:\n",
    "    #content = file.read()\n",
    "    dictReader = csv.DictReader(file)\n",
    "    contents:list = list(dictReader)\n",
    "\n",
    "pprint(contents) #List of Dictionarys"
   ]
  },
  {
   "cell_type": "code",
   "execution_count": null,
   "metadata": {},
   "outputs": [],
   "source": [
    "for item in contents:\n",
    "    if '元大' in item['證券名稱']:\n",
    "        print(item)"
   ]
  },
  {
   "cell_type": "code",
   "execution_count": null,
   "metadata": {},
   "outputs": [],
   "source": [
    "searchs:list = []\n",
    "for item in contents:\n",
    "    if '元大' in item['證券名稱']:\n",
    "        searchs.append(item)\n",
    "\n",
    "pprint(searchs)"
   ]
  },
  {
   "cell_type": "code",
   "execution_count": 7,
   "metadata": {},
   "outputs": [
    {
     "data": {
      "text/plain": [
       "['證券代號', '證券名稱', '成交股數', '成交金額', '開盤價', '最高價', '最低價', '收盤價', '漲跌價差', '成交筆數']"
      ]
     },
     "execution_count": 7,
     "metadata": {},
     "output_type": "execute_result"
    }
   ],
   "source": [
    "searchs:list = []\n",
    "for item in contents:\n",
    "    if '元大' in item['證券名稱']:\n",
    "        searchs.append(item)\n",
    "\n",
    "keys:list[str] = list(searchs[0].keys())\n",
    "keys"
   ]
  },
  {
   "cell_type": "code",
   "execution_count": 8,
   "metadata": {},
   "outputs": [],
   "source": [
    "with open('search.csv',mode='w',encoding='utf-8',newline='') as file: #傳出csv檔\n",
    "    dictWriter = csv.DictWriter(file,keys)\n",
    "    dictWriter.writeheader()\n",
    "    dictWriter.writerows(searchs)"
   ]
  }
 ],
 "metadata": {
  "kernelspec": {
   "display_name": "Python 3",
   "language": "python",
   "name": "python3"
  },
  "language_info": {
   "codemirror_mode": {
    "name": "ipython",
    "version": 3
   },
   "file_extension": ".py",
   "mimetype": "text/x-python",
   "name": "python",
   "nbconvert_exporter": "python",
   "pygments_lexer": "ipython3",
   "version": "3.11.9"
  }
 },
 "nbformat": 4,
 "nbformat_minor": 2
}
