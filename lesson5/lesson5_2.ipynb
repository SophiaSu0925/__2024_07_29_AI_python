{
 "cells": [
  {
   "cell_type": "code",
   "execution_count": null,
   "metadata": {},
   "outputs": [],
   "source": [
    "#2種不同條件 #巢狀判斷\n",
    "#國文數學100分($1000); 國文數學其中一科100\n",
    "\n",
    "chinese = int(input(\"請輸入國文分數:\"))\n",
    "math = int(input(\"請輸入數學分數:\"))\n",
    "\n",
    "if chinese == 100: #一定100分\n",
    "    if math == 100:\n",
    "        bonus == 1000\n",
    "    else:\n",
    "       bonus == 500\n",
    "else:\n",
    "    if math == 100:\n",
    "        bonus = 500\n",
    "    else:\n",
    "        bonus == 0\n",
    "print(f\"獎金:{bonus}\")"
   ]
  },
  {
   "cell_type": "code",
   "execution_count": null,
   "metadata": {},
   "outputs": [],
   "source": []
  }
 ],
 "metadata": {
  "kernelspec": {
   "display_name": "Python 3",
   "language": "python",
   "name": "python3"
  },
  "language_info": {
   "name": "python",
   "version": "3.11.9"
  }
 },
 "nbformat": 4,
 "nbformat_minor": 2
}
