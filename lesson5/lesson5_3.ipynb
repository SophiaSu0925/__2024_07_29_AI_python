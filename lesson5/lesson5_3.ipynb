{
 "cells": [
  {
   "cell_type": "code",
   "execution_count": 2,
   "metadata": {},
   "outputs": [
    {
     "name": "stdout",
     "output_type": "stream",
     "text": [
      "55\n"
     ]
    }
   ],
   "source": [
    "#1~10(一加到十)\n",
    "#複合指定運算子\n",
    "sum = 0\n",
    "sum += 1\n",
    "sum += 2\n",
    "sum += 3\n",
    "sum += 4\n",
    "sum += 5\n",
    "sum += 6\n",
    "sum += 7\n",
    "sum += 8\n",
    "sum += 9\n",
    "sum += 10\n",
    "print(sum)"
   ]
  },
  {
   "cell_type": "code",
   "execution_count": 3,
   "metadata": {},
   "outputs": [
    {
     "name": "stdout",
     "output_type": "stream",
     "text": [
      "55\n"
     ]
    }
   ],
   "source": [
    "#for...in迴圈(明確知道執行幾次)會傳出串列資料\n",
    "#range(n),產生n個串列資料\n",
    "#range(stop):一個參數沒有default值\n",
    "\n",
    "\n",
    "sum = 0\n",
    "for i in range(1, 11):\n",
    "    sum += i\n",
    "print(sum)"
   ]
  }
 ],
 "metadata": {
  "kernelspec": {
   "display_name": "Python 3",
   "language": "python",
   "name": "python3"
  },
  "language_info": {
   "codemirror_mode": {
    "name": "ipython",
    "version": 3
   },
   "file_extension": ".py",
   "mimetype": "text/x-python",
   "name": "python",
   "nbconvert_exporter": "python",
   "pygments_lexer": "ipython3",
   "version": "3.11.9"
  }
 },
 "nbformat": 4,
 "nbformat_minor": 2
}
