{
 "cells": [
  {
   "cell_type": "code",
   "execution_count": 1,
   "metadata": {},
   "outputs": [
    {
     "name": "stdout",
     "output_type": "stream",
     "text": [
      "(1, 2, 3, 'a', 'b', 'c', 3.5, 4.0)\n"
     ]
    }
   ],
   "source": [
    "def print_args(*args): #*:沒有限定數量的引述值呼叫/args:參數名稱\n",
    "    print(args)\n",
    "\n",
    "print_args(1,2,3,'a','b','c',3.5,4.0) #()tuple:將多個值包在一起"
   ]
  },
  {
   "cell_type": "code",
   "execution_count": 2,
   "metadata": {},
   "outputs": [
    {
     "name": "stdout",
     "output_type": "stream",
     "text": [
      "{'tw': 'taiwan', 'jp': 'japan'}\n"
     ]
    }
   ],
   "source": [
    "def print_kwargs(**kwargs): #**:沒有限定數量的引述名稱呼叫\n",
    "    print(kwargs)\n",
    "\n",
    "print_kwargs(tw='taiwan', jp='japan') #{}dictionary"
   ]
  },
  {
   "cell_type": "code",
   "execution_count": 3,
   "metadata": {},
   "outputs": [
    {
     "name": "stdout",
     "output_type": "stream",
     "text": [
      "(1, 2, 'a', 'b')\n",
      "{'tw': 'Taiwna', 'jp': 'Japan'}\n"
     ]
    }
   ],
   "source": [
    "def print_all(*args,**kwargs):\n",
    "    print(args)\n",
    "    print(kwargs)\n",
    "\n",
    "print_all(1,2,'a','b',tw='Taiwna',jp='Japan')"
   ]
  }
 ],
 "metadata": {
  "kernelspec": {
   "display_name": "Python 3",
   "language": "python",
   "name": "python3"
  },
  "language_info": {
   "codemirror_mode": {
    "name": "ipython",
    "version": 3
   },
   "file_extension": ".py",
   "mimetype": "text/x-python",
   "name": "python",
   "nbconvert_exporter": "python",
   "pygments_lexer": "ipython3",
   "version": "3.11.9"
  }
 },
 "nbformat": 4,
 "nbformat_minor": 2
}
