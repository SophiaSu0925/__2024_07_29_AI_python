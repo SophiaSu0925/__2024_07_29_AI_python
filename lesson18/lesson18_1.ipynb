{
 "cells": [
  {
   "cell_type": "code",
   "execution_count": 2,
   "metadata": {},
   "outputs": [
    {
     "data": {
      "text/html": [
       "<div>\n",
       "<style scoped>\n",
       "    .dataframe tbody tr th:only-of-type {\n",
       "        vertical-align: middle;\n",
       "    }\n",
       "\n",
       "    .dataframe tbody tr th {\n",
       "        vertical-align: top;\n",
       "    }\n",
       "\n",
       "    .dataframe thead th {\n",
       "        text-align: right;\n",
       "    }\n",
       "</style>\n",
       "<table border=\"1\" class=\"dataframe\">\n",
       "  <thead>\n",
       "    <tr style=\"text-align: right;\">\n",
       "      <th></th>\n",
       "      <th>b</th>\n",
       "      <th>d</th>\n",
       "      <th>e</th>\n",
       "    </tr>\n",
       "  </thead>\n",
       "  <tbody>\n",
       "    <tr>\n",
       "      <th>taipei</th>\n",
       "      <td>0.378742</td>\n",
       "      <td>0.230561</td>\n",
       "      <td>0.328579</td>\n",
       "    </tr>\n",
       "    <tr>\n",
       "      <th>taichung</th>\n",
       "      <td>-0.032010</td>\n",
       "      <td>0.559682</td>\n",
       "      <td>0.947832</td>\n",
       "    </tr>\n",
       "    <tr>\n",
       "      <th>tainan</th>\n",
       "      <td>-1.520591</td>\n",
       "      <td>-2.164052</td>\n",
       "      <td>0.330293</td>\n",
       "    </tr>\n",
       "    <tr>\n",
       "      <th>kaohsiung</th>\n",
       "      <td>-0.269521</td>\n",
       "      <td>-0.114245</td>\n",
       "      <td>-1.120616</td>\n",
       "    </tr>\n",
       "  </tbody>\n",
       "</table>\n",
       "</div>"
      ],
      "text/plain": [
       "                  b         d         e\n",
       "taipei     0.378742  0.230561  0.328579\n",
       "taichung  -0.032010  0.559682  0.947832\n",
       "tainan    -1.520591 -2.164052  0.330293\n",
       "kaohsiung -0.269521 -0.114245 -1.120616"
      ]
     },
     "execution_count": 2,
     "metadata": {},
     "output_type": "execute_result"
    }
   ],
   "source": [
    "import pandas as pd\n",
    "import numpy as np\n",
    "\n",
    "frame = pd.DataFrame(np.random.randn(4,3),\n",
    "             columns=list('bde'),\n",
    "             index=['taipei','taichung','tainan','kaohsiung'])\n",
    "frame"
   ]
  },
  {
   "cell_type": "code",
   "execution_count": 3,
   "metadata": {},
   "outputs": [
    {
     "data": {
      "text/html": [
       "<div>\n",
       "<style scoped>\n",
       "    .dataframe tbody tr th:only-of-type {\n",
       "        vertical-align: middle;\n",
       "    }\n",
       "\n",
       "    .dataframe tbody tr th {\n",
       "        vertical-align: top;\n",
       "    }\n",
       "\n",
       "    .dataframe thead th {\n",
       "        text-align: right;\n",
       "    }\n",
       "</style>\n",
       "<table border=\"1\" class=\"dataframe\">\n",
       "  <thead>\n",
       "    <tr style=\"text-align: right;\">\n",
       "      <th></th>\n",
       "      <th>b</th>\n",
       "      <th>d</th>\n",
       "      <th>e</th>\n",
       "    </tr>\n",
       "  </thead>\n",
       "  <tbody>\n",
       "    <tr>\n",
       "      <th>taipei</th>\n",
       "      <td>0.378742</td>\n",
       "      <td>0.230561</td>\n",
       "      <td>0.328579</td>\n",
       "    </tr>\n",
       "    <tr>\n",
       "      <th>taichung</th>\n",
       "      <td>0.032010</td>\n",
       "      <td>0.559682</td>\n",
       "      <td>0.947832</td>\n",
       "    </tr>\n",
       "    <tr>\n",
       "      <th>tainan</th>\n",
       "      <td>1.520591</td>\n",
       "      <td>2.164052</td>\n",
       "      <td>0.330293</td>\n",
       "    </tr>\n",
       "    <tr>\n",
       "      <th>kaohsiung</th>\n",
       "      <td>0.269521</td>\n",
       "      <td>0.114245</td>\n",
       "      <td>1.120616</td>\n",
       "    </tr>\n",
       "  </tbody>\n",
       "</table>\n",
       "</div>"
      ],
      "text/plain": [
       "                  b         d         e\n",
       "taipei     0.378742  0.230561  0.328579\n",
       "taichung   0.032010  0.559682  0.947832\n",
       "tainan     1.520591  2.164052  0.330293\n",
       "kaohsiung  0.269521  0.114245  1.120616"
      ]
     },
     "execution_count": 3,
     "metadata": {},
     "output_type": "execute_result"
    }
   ],
   "source": [
    "#dataframe實體方法\n",
    "frame.abs()"
   ]
  },
  {
   "cell_type": "code",
   "execution_count": 4,
   "metadata": {},
   "outputs": [
    {
     "data": {
      "text/html": [
       "<div>\n",
       "<style scoped>\n",
       "    .dataframe tbody tr th:only-of-type {\n",
       "        vertical-align: middle;\n",
       "    }\n",
       "\n",
       "    .dataframe tbody tr th {\n",
       "        vertical-align: top;\n",
       "    }\n",
       "\n",
       "    .dataframe thead th {\n",
       "        text-align: right;\n",
       "    }\n",
       "</style>\n",
       "<table border=\"1\" class=\"dataframe\">\n",
       "  <thead>\n",
       "    <tr style=\"text-align: right;\">\n",
       "      <th></th>\n",
       "      <th>b</th>\n",
       "      <th>d</th>\n",
       "      <th>e</th>\n",
       "    </tr>\n",
       "  </thead>\n",
       "  <tbody>\n",
       "    <tr>\n",
       "      <th>taipei</th>\n",
       "      <td>0.378742</td>\n",
       "      <td>0.230561</td>\n",
       "      <td>0.328579</td>\n",
       "    </tr>\n",
       "    <tr>\n",
       "      <th>taichung</th>\n",
       "      <td>0.032010</td>\n",
       "      <td>0.559682</td>\n",
       "      <td>0.947832</td>\n",
       "    </tr>\n",
       "    <tr>\n",
       "      <th>tainan</th>\n",
       "      <td>1.520591</td>\n",
       "      <td>2.164052</td>\n",
       "      <td>0.330293</td>\n",
       "    </tr>\n",
       "    <tr>\n",
       "      <th>kaohsiung</th>\n",
       "      <td>0.269521</td>\n",
       "      <td>0.114245</td>\n",
       "      <td>1.120616</td>\n",
       "    </tr>\n",
       "  </tbody>\n",
       "</table>\n",
       "</div>"
      ],
      "text/plain": [
       "                  b         d         e\n",
       "taipei     0.378742  0.230561  0.328579\n",
       "taichung   0.032010  0.559682  0.947832\n",
       "tainan     1.520591  2.164052  0.330293\n",
       "kaohsiung  0.269521  0.114245  1.120616"
      ]
     },
     "execution_count": 4,
     "metadata": {},
     "output_type": "execute_result"
    }
   ],
   "source": [
    "#使用numpy function\n",
    "np.abs(frame)"
   ]
  },
  {
   "cell_type": "code",
   "execution_count": 5,
   "metadata": {},
   "outputs": [
    {
     "data": {
      "text/html": [
       "<div>\n",
       "<style scoped>\n",
       "    .dataframe tbody tr th:only-of-type {\n",
       "        vertical-align: middle;\n",
       "    }\n",
       "\n",
       "    .dataframe tbody tr th {\n",
       "        vertical-align: top;\n",
       "    }\n",
       "\n",
       "    .dataframe thead th {\n",
       "        text-align: right;\n",
       "    }\n",
       "</style>\n",
       "<table border=\"1\" class=\"dataframe\">\n",
       "  <thead>\n",
       "    <tr style=\"text-align: right;\">\n",
       "      <th></th>\n",
       "      <th>b</th>\n",
       "      <th>d</th>\n",
       "      <th>e</th>\n",
       "    </tr>\n",
       "  </thead>\n",
       "  <tbody>\n",
       "    <tr>\n",
       "      <th>taipei</th>\n",
       "      <td>0.378742</td>\n",
       "      <td>0.230561</td>\n",
       "      <td>0.328579</td>\n",
       "    </tr>\n",
       "    <tr>\n",
       "      <th>taichung</th>\n",
       "      <td>-0.032010</td>\n",
       "      <td>0.559682</td>\n",
       "      <td>0.947832</td>\n",
       "    </tr>\n",
       "    <tr>\n",
       "      <th>tainan</th>\n",
       "      <td>-1.520591</td>\n",
       "      <td>-2.164052</td>\n",
       "      <td>0.330293</td>\n",
       "    </tr>\n",
       "    <tr>\n",
       "      <th>kaohsiung</th>\n",
       "      <td>-0.269521</td>\n",
       "      <td>-0.114245</td>\n",
       "      <td>-1.120616</td>\n",
       "    </tr>\n",
       "  </tbody>\n",
       "</table>\n",
       "</div>"
      ],
      "text/plain": [
       "                  b         d         e\n",
       "taipei     0.378742  0.230561  0.328579\n",
       "taichung  -0.032010  0.559682  0.947832\n",
       "tainan    -1.520591 -2.164052  0.330293\n",
       "kaohsiung -0.269521 -0.114245 -1.120616"
      ]
     },
     "execution_count": 5,
     "metadata": {},
     "output_type": "execute_result"
    }
   ],
   "source": [
    "frame"
   ]
  },
  {
   "cell_type": "code",
   "execution_count": 6,
   "metadata": {},
   "outputs": [
    {
     "data": {
      "text/plain": [
       "np.float64(1.899333188928851)"
      ]
     },
     "execution_count": 6,
     "metadata": {},
     "output_type": "execute_result"
    }
   ],
   "source": [
    "frame['b'].max() - frame['b'].min()"
   ]
  },
  {
   "cell_type": "code",
   "execution_count": 7,
   "metadata": {},
   "outputs": [
    {
     "data": {
      "text/plain": [
       "b    1.899333\n",
       "d    2.723733\n",
       "e    2.068448\n",
       "dtype: float64"
      ]
     },
     "execution_count": 7,
     "metadata": {},
     "output_type": "execute_result"
    }
   ],
   "source": [
    "def abc(s):\n",
    "    return s.max()-s.min()\n",
    "\n",
    "frame.apply(abc)"
   ]
  },
  {
   "cell_type": "code",
   "execution_count": 8,
   "metadata": {},
   "outputs": [
    {
     "data": {
      "text/plain": [
       "taipei       0.148181\n",
       "taichung     0.979842\n",
       "tainan       2.494345\n",
       "kaohsiung    1.006371\n",
       "dtype: float64"
      ]
     },
     "execution_count": 8,
     "metadata": {},
     "output_type": "execute_result"
    }
   ],
   "source": [
    "frame.apply(abc,axis=1)"
   ]
  }
 ],
 "metadata": {
  "kernelspec": {
   "display_name": "Python 3",
   "language": "python",
   "name": "python3"
  },
  "language_info": {
   "codemirror_mode": {
    "name": "ipython",
    "version": 3
   },
   "file_extension": ".py",
   "mimetype": "text/x-python",
   "name": "python",
   "nbconvert_exporter": "python",
   "pygments_lexer": "ipython3",
   "version": "3.11.9"
  }
 },
 "nbformat": 4,
 "nbformat_minor": 2
}
