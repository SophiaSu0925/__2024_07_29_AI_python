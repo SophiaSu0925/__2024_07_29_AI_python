{
 "cells": [
  {
   "cell_type": "code",
   "execution_count": 1,
   "metadata": {},
   "outputs": [
    {
     "data": {
      "text/plain": [
       "(5, 7)"
      ]
     },
     "execution_count": 1,
     "metadata": {},
     "output_type": "execute_result"
    }
   ],
   "source": [
    "(5, 7)"
   ]
  },
  {
   "cell_type": "code",
   "execution_count": 2,
   "metadata": {},
   "outputs": [
    {
     "data": {
      "text/plain": [
       "(5, 7)"
      ]
     },
     "execution_count": 2,
     "metadata": {},
     "output_type": "execute_result"
    }
   ],
   "source": [
    "5, 7"
   ]
  },
  {
   "cell_type": "code",
   "execution_count": 3,
   "metadata": {},
   "outputs": [
    {
     "data": {
      "text/plain": [
       "(5,)"
      ]
     },
     "execution_count": 3,
     "metadata": {},
     "output_type": "execute_result"
    }
   ],
   "source": [
    "(5,)"
   ]
  },
  {
   "cell_type": "code",
   "execution_count": 4,
   "metadata": {},
   "outputs": [
    {
     "data": {
      "text/plain": [
       "[1, 3, 5, 7, 9, 3, 5, 6, 7, 9]"
      ]
     },
     "execution_count": 4,
     "metadata": {},
     "output_type": "execute_result"
    }
   ],
   "source": [
    "list_a = [1,3,5,7,9]\n",
    "list_b = [3,5,6,7,9]\n",
    "list_a + list_b"
   ]
  },
  {
   "cell_type": "code",
   "execution_count": 5,
   "metadata": {},
   "outputs": [
    {
     "data": {
      "text/plain": [
       "array([ 4,  8, 11, 14, 18])"
      ]
     },
     "execution_count": 5,
     "metadata": {},
     "output_type": "execute_result"
    }
   ],
   "source": [
    "#np.array功能為陣列運算\n",
    "\n",
    "import numpy as np\n",
    "array_a = np.array([1,3,5,7,9])\n",
    "array_b = np.array([3, 5, 6, 7, 9])\n",
    "type(array_a)\n",
    "array_a + array_b "
   ]
  },
  {
   "cell_type": "code",
   "execution_count": 8,
   "metadata": {},
   "outputs": [
    {
     "data": {
      "text/plain": [
       "(2, (2, 3), 6, dtype('int64'))"
      ]
     },
     "execution_count": 8,
     "metadata": {},
     "output_type": "execute_result"
    }
   ],
   "source": [
    "import numpy as np\n",
    "\n",
    "l = [[1,2,3],[2,3,4]] #二維array\n",
    "array = np.array(l)\n",
    "array.ndim, array.shape, array.size, array.dtype"
   ]
  },
  {
   "cell_type": "code",
   "execution_count": 10,
   "metadata": {},
   "outputs": [
    {
     "data": {
      "text/plain": [
       "array([[-0.59348261,  0.19640323, -0.69954597,  1.22835857, -0.0976852 ],\n",
       "       [ 0.42576197,  1.71638986,  0.22990803,  0.76674088,  0.64184003],\n",
       "       [-0.62727422,  1.44364985, -0.34332984,  0.44375298,  1.14580385],\n",
       "       [ 1.58142496,  0.71361479, -1.34030832,  0.2617841 , -0.57769873],\n",
       "       [ 1.32867254, -0.9200653 , -0.02982935,  0.94873254,  0.08870331],\n",
       "       [ 0.97083814,  0.04389428,  0.99050365, -0.13592737,  0.17976106],\n",
       "       [ 0.83548755, -2.51710723, -0.66366634,  0.08103501,  0.39062861],\n",
       "       [ 0.59358648,  2.87563289, -0.67060242,  0.05450572, -1.37863302],\n",
       "       [-0.01055418,  0.0992126 , -0.98975641,  0.80153993,  0.28704943],\n",
       "       [-2.9348681 , -0.26413627,  0.68527105,  0.4251348 , -0.79767386]])"
      ]
     },
     "execution_count": 10,
     "metadata": {},
     "output_type": "execute_result"
    }
   ],
   "source": [
    "import numpy as np\n",
    "np.random.randn(10, 5)"
   ]
  },
  {
   "cell_type": "code",
   "execution_count": 13,
   "metadata": {},
   "outputs": [
    {
     "data": {
      "text/plain": [
       "array([[ 56,  91,  63,  83,  93],\n",
       "       [ 95,  78,  81,  88,  89],\n",
       "       [ 81,  82,  93,  77,  77],\n",
       "       [ 67,  60,  95,  56,  88],\n",
       "       [ 91,  52,  76,  57,  63],\n",
       "       [ 92,  94,  87,  83,  84],\n",
       "       [ 96,  84,  96,  66,  71],\n",
       "       [ 68,  91,  90,  86,  72],\n",
       "       [ 54,  90,  80,  84,  79],\n",
       "       [ 88,  56,  53,  64,  71],\n",
       "       [ 75,  82,  60,  90,  64],\n",
       "       [ 65,  80,  85,  59,  57],\n",
       "       [ 78,  53,  78,  65,  69],\n",
       "       [ 63,  79,  88,  96,  55],\n",
       "       [ 80,  88,  60,  72,  84],\n",
       "       [ 93,  76,  82,  94,  95],\n",
       "       [ 52,  79,  83,  80,  82],\n",
       "       [ 54,  66,  96,  99,  79],\n",
       "       [ 82,  66,  68,  72,  74],\n",
       "       [ 58,  80,  83,  84,  85],\n",
       "       [ 78,  52,  98,  81,  74],\n",
       "       [ 95,  69,  54,  73,  86],\n",
       "       [ 87,  93,  59,  65,  65],\n",
       "       [ 57,  93, 100,  64,  76],\n",
       "       [ 71,  70,  79,  84,  99],\n",
       "       [ 75,  55,  94,  94,  79],\n",
       "       [ 54,  86,  80,  83,  78],\n",
       "       [ 90,  91,  59,  75,  97],\n",
       "       [ 92,  77,  64,  79,  79],\n",
       "       [ 65,  99,  82,  85,  72],\n",
       "       [ 86,  84,  63,  68,  85],\n",
       "       [ 84,  73,  88,  62,  94],\n",
       "       [ 93,  61,  96,  56,  76],\n",
       "       [ 56,  76,  68,  99,  88],\n",
       "       [ 56,  86,  98,  73,  58],\n",
       "       [ 82,  52,  51,  58,  74],\n",
       "       [ 94,  71,  58,  70,  76],\n",
       "       [ 92,  68,  71,  90,  98],\n",
       "       [ 50,  57,  91,  58,  89],\n",
       "       [ 70,  96,  57,  87,  87],\n",
       "       [ 99,  55,  96,  62,  81],\n",
       "       [ 68,  75,  77,  67,  82],\n",
       "       [ 70,  77,  78,  74,  81],\n",
       "       [ 98,  90,  97,  98,  75],\n",
       "       [ 97,  77,  75,  64,  72],\n",
       "       [ 97,  93,  58,  70,  86],\n",
       "       [ 75,  66,  79,  51,  55],\n",
       "       [ 59,  96,  54,  79,  75],\n",
       "       [ 65,  61,  88,  59,  67],\n",
       "       [ 91,  82,  89,  79,  93]])"
      ]
     },
     "execution_count": 13,
     "metadata": {},
     "output_type": "execute_result"
    }
   ],
   "source": [
    "#50個學生,每個學生有5個分數(50-100) 可重複執行\n",
    "scores = np.random.randint(50,101,size=(50,5))\n",
    "scores"
   ]
  },
  {
   "cell_type": "code",
   "execution_count": 14,
   "metadata": {},
   "outputs": [
    {
     "data": {
      "text/plain": [
       "array([[97, 93, 58, 70, 86],\n",
       "       [75, 66, 79, 51, 55],\n",
       "       [59, 96, 54, 79, 75],\n",
       "       [65, 61, 88, 59, 67],\n",
       "       [91, 82, 89, 79, 93]])"
      ]
     },
     "execution_count": 14,
     "metadata": {},
     "output_type": "execute_result"
    }
   ],
   "source": [
    "#第一個學生\n",
    "scores[0,:]\n",
    "#前五個學生\n",
    "scores[:5,:]\n",
    "#最後5個學生\n",
    "scores[-5:,:]"
   ]
  },
  {
   "cell_type": "code",
   "execution_count": 16,
   "metadata": {},
   "outputs": [
    {
     "data": {
      "text/plain": [
       "array([91, 78, 82, 60, 52, 94, 84, 91, 90, 56, 82, 80, 53, 79, 88, 76, 79,\n",
       "       66, 66, 80, 52, 69, 93, 93, 70, 55, 86, 91, 77, 99, 84, 73, 61, 76,\n",
       "       86, 52, 71, 68, 57, 96, 55, 75, 77, 90, 77, 93, 66, 96, 61, 82])"
      ]
     },
     "execution_count": 16,
     "metadata": {},
     "output_type": "execute_result"
    }
   ],
   "source": [
    "#全班第一科的分數\n",
    "scores[:, 1]"
   ]
  },
  {
   "cell_type": "code",
   "execution_count": 19,
   "metadata": {},
   "outputs": [
    {
     "data": {
      "text/plain": [
       "array([386, 431, 410, 366, 339, 440, 413, 407, 387, 332, 371, 346, 343,\n",
       "       381, 384, 440, 376, 394, 362, 390, 383, 377, 369, 390, 403, 397,\n",
       "       381, 412, 391, 403, 386, 401, 382, 387, 371, 317, 369, 419, 345,\n",
       "       397, 393, 369, 380, 458, 385, 404, 326, 363, 340, 434])"
      ]
     },
     "execution_count": 19,
     "metadata": {},
     "output_type": "execute_result"
    }
   ],
   "source": [
    "#每位學生的總分\n",
    "total = scores[:,0] + scores[:,1] + scores[:,2] + scores[:,3] + scores[:,4] \n",
    "total"
   ]
  },
  {
   "cell_type": "code",
   "execution_count": 20,
   "metadata": {},
   "outputs": [
    {
     "data": {
      "text/plain": [
       "array([386, 431, 410, 366, 339, 440, 413, 407, 387, 332, 371, 346, 343,\n",
       "       381, 384, 440, 376, 394, 362, 390, 383, 377, 369, 390, 403, 397,\n",
       "       381, 412, 391, 403, 386, 401, 382, 387, 371, 317, 369, 419, 345,\n",
       "       397, 393, 369, 380, 458, 385, 404, 326, 363, 340, 434])"
      ]
     },
     "execution_count": 20,
     "metadata": {},
     "output_type": "execute_result"
    }
   ],
   "source": [
    "#使用統計方法\n",
    "#每個學生總分\n",
    "np.sum(scores,axis=1)"
   ]
  },
  {
   "cell_type": "code",
   "execution_count": 21,
   "metadata": {},
   "outputs": [
    {
     "data": {
      "text/plain": [
       "array([77.2, 86.2, 82. , 73.2, 67.8, 88. , 82.6, 81.4, 77.4, 66.4, 74.2,\n",
       "       69.2, 68.6, 76.2, 76.8, 88. , 75.2, 78.8, 72.4, 78. , 76.6, 75.4,\n",
       "       73.8, 78. , 80.6, 79.4, 76.2, 82.4, 78.2, 80.6, 77.2, 80.2, 76.4,\n",
       "       77.4, 74.2, 63.4, 73.8, 83.8, 69. , 79.4, 78.6, 73.8, 76. , 91.6,\n",
       "       77. , 80.8, 65.2, 72.6, 68. , 86.8])"
      ]
     },
     "execution_count": 21,
     "metadata": {},
     "output_type": "execute_result"
    }
   ],
   "source": [
    "#每個學生平均\n",
    "np.mean(scores,axis=1)"
   ]
  }
 ],
 "metadata": {
  "kernelspec": {
   "display_name": "Python 3",
   "language": "python",
   "name": "python3"
  },
  "language_info": {
   "codemirror_mode": {
    "name": "ipython",
    "version": 3
   },
   "file_extension": ".py",
   "mimetype": "text/x-python",
   "name": "python",
   "nbconvert_exporter": "python",
   "pygments_lexer": "ipython3",
   "version": "3.11.9"
  }
 },
 "nbformat": 4,
 "nbformat_minor": 2
}
