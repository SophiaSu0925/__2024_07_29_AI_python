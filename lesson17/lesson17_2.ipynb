{
 "cells": [
  {
   "cell_type": "code",
   "execution_count": null,
   "metadata": {},
   "outputs": [],
   "source": [
    "import numpy as np\n",
    "import pandas as pd\n",
    "\n",
    "scores = np.random.randint(50,101,size=(50,5))\n",
    "scores_df = pd.DataFrame(scores,\n",
    "             columns=['chinese','math','history','nature','art'],\n",
    "             index=range(1,51))\n",
    "scores_df.index.name = '學號'\n",
    "scores_df.columns.name = '科目'"
   ]
  },
  {
   "cell_type": "code",
   "execution_count": null,
   "metadata": {},
   "outputs": [],
   "source": [
    "sum_series = scores_df.sum(axis=1)\n",
    "mean_series = scores_df.mean(axis=1)\n",
    "rank_series = sum_series.rank(method='min', ascending=False)\n",
    "scores_df['總分'] = sum_series\n",
    "scores_df['平均'] = mean_series\n",
    "scores_df['排名'] = rank_series\n",
    "scores_df"
   ]
  },
  {
   "cell_type": "code",
   "execution_count": null,
   "metadata": {},
   "outputs": [],
   "source": [
    "scores_sorted_df = scores_df.sort_values(by='排名',ascending=True)\n",
    "scores_sorted_df"
   ]
  },
  {
   "cell_type": "code",
   "execution_count": null,
   "metadata": {},
   "outputs": [],
   "source": [
    "#班上前5名\n",
    "scores_sorted_df.iloc[:5]"
   ]
  },
  {
   "cell_type": "code",
   "execution_count": null,
   "metadata": {},
   "outputs": [],
   "source": [
    "#班上後5名\n",
    "scores_sorted_df.iloc[-5:]"
   ]
  }
 ],
 "metadata": {
  "kernelspec": {
   "display_name": "Python 3",
   "language": "python",
   "name": "python3"
  },
  "language_info": {
   "codemirror_mode": {
    "name": "ipython",
    "version": 3
   },
   "file_extension": ".py",
   "mimetype": "text/x-python",
   "name": "python",
   "nbconvert_exporter": "python",
   "pygments_lexer": "ipython3",
   "version": "3.11.9"
  }
 },
 "nbformat": 4,
 "nbformat_minor": 2
}
